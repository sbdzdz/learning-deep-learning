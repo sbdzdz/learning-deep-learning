{
 "cells": [
  {
   "cell_type": "code",
   "execution_count": 1,
   "metadata": {
    "collapsed": false
   },
   "outputs": [],
   "source": [
    "%%capture\n",
    "from tensorflow.examples.tutorials.mnist import input_data\n",
    "\n",
    "mnist = input_data.read_data_sets(\"MNIST_data/\", one_hot=True)"
   ]
  },
  {
   "cell_type": "code",
   "execution_count": 155,
   "metadata": {
    "collapsed": false
   },
   "outputs": [],
   "source": [
    "from scipy.misc import toimage\n",
    "\n",
    "#visualize input\n",
    "example = mnist.train.next_batch(1)\n",
    "toimage(example[0][0].reshape(28,28)).show()"
   ]
  },
  {
   "cell_type": "code",
   "execution_count": 23,
   "metadata": {
    "collapsed": false
   },
   "outputs": [],
   "source": [
    "from keras.models import Sequential\n",
    "from keras.layers import Dense, Activation\n",
    "\n",
    "NUM_EPOCHS = 10\n",
    "\n",
    "#define architecture\n",
    "model = Sequential()\n",
    "model.add(Dense(units=10, input_dim=784))\n",
    "model.add(Activation('softmax'))\n",
    "\n",
    "#compile\n",
    "model.compile(loss='categorical_crossentropy',\n",
    "              optimizer='sgd',\n",
    "              metrics=['accuracy'])"
   ]
  },
  {
   "cell_type": "code",
   "execution_count": 24,
   "metadata": {
    "collapsed": false
   },
   "outputs": [
    {
     "name": "stdout",
     "output_type": "stream",
     "text": [
      "Train on 55000 samples, validate on 10000 samples\n",
      "Epoch 1/10\n",
      "55000/55000 [==============================] - 2s - loss: 0.8096 - acc: 0.8054 - val_loss: 0.4932 - val_acc: 0.8764\n",
      "Epoch 2/10\n",
      "55000/55000 [==============================] - 2s - loss: 0.4702 - acc: 0.8778 - val_loss: 0.4093 - val_acc: 0.8921\n",
      "Epoch 3/10\n",
      "55000/55000 [==============================] - 2s - loss: 0.4144 - acc: 0.8879 - val_loss: 0.3742 - val_acc: 0.9002\n",
      "Epoch 4/10\n",
      "55000/55000 [==============================] - 2s - loss: 0.3864 - acc: 0.8944 - val_loss: 0.3547 - val_acc: 0.9046\n",
      "Epoch 5/10\n",
      "55000/55000 [==============================] - 2s - loss: 0.3686 - acc: 0.8981 - val_loss: 0.3410 - val_acc: 0.9074\n",
      "Epoch 6/10\n",
      "55000/55000 [==============================] - 2s - loss: 0.3560 - acc: 0.9012 - val_loss: 0.3311 - val_acc: 0.9100\n",
      "Epoch 7/10\n",
      "55000/55000 [==============================] - 2s - loss: 0.3464 - acc: 0.9036 - val_loss: 0.3237 - val_acc: 0.9123\n",
      "Epoch 8/10\n",
      "55000/55000 [==============================] - 2s - loss: 0.3388 - acc: 0.9050 - val_loss: 0.3171 - val_acc: 0.9119\n",
      "Epoch 9/10\n",
      "55000/55000 [==============================] - 2s - loss: 0.3324 - acc: 0.9069 - val_loss: 0.3146 - val_acc: 0.9140\n",
      "Epoch 10/10\n",
      "55000/55000 [==============================] - 2s - loss: 0.3272 - acc: 0.9086 - val_loss: 0.3091 - val_acc: 0.9146\n"
     ]
    },
    {
     "data": {
      "text/plain": [
       "<keras.callbacks.History at 0x1202e19b0>"
      ]
     },
     "execution_count": 24,
     "metadata": {},
     "output_type": "execute_result"
    }
   ],
   "source": [
    "x_train, y_train = mnist.train.images, mnist.train.labels\n",
    "model.fit(x_train, y_train,\n",
    "          epochs=10,\n",
    "          validation_data=(x_test, y_test))"
   ]
  },
  {
   "cell_type": "code",
   "execution_count": null,
   "metadata": {
    "collapsed": true
   },
   "outputs": [],
   "source": []
  }
 ],
 "metadata": {
  "kernelspec": {
   "display_name": "Python 3",
   "language": "python",
   "name": "python3"
  },
  "language_info": {
   "codemirror_mode": {
    "name": "ipython",
    "version": 3
   },
   "file_extension": ".py",
   "mimetype": "text/x-python",
   "name": "python",
   "nbconvert_exporter": "python",
   "pygments_lexer": "ipython3",
   "version": "3.5.2"
  }
 },
 "nbformat": 4,
 "nbformat_minor": 1
}
